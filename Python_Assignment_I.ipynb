{
  "nbformat": 4,
  "nbformat_minor": 0,
  "metadata": {
    "colab": {
      "name": "Python_Assignment-I",
      "provenance": [],
      "collapsed_sections": []
    },
    "kernelspec": {
      "name": "python3",
      "display_name": "Python 3"
    }
  },
  "cells": [
    {
      "cell_type": "markdown",
      "metadata": {
        "id": "OUiXAV2wXgLP",
        "colab_type": "text"
      },
      "source": [
        "## ASSIGNMENT - I (DAY - II) || 02nd September, 2020"
      ]
    },
    {
      "cell_type": "markdown",
      "metadata": {
        "id": "t3PJ_KPyXvJa",
        "colab_type": "text"
      },
      "source": [
        "#### QUESTION - 1: LISTS AND ITS DEFAULT FUNCTIONS."
      ]
    },
    {
      "cell_type": "markdown",
      "metadata": {
        "id": "Dp6mCgvjXvVp",
        "colab_type": "text"
      },
      "source": [
        "#### LIST : List is a collection which is ordered and changeable. Allows duplicate members."
      ]
    },
    {
      "cell_type": "code",
      "metadata": {
        "id": "hMZ1BelMXi5s",
        "colab_type": "code",
        "colab": {
          "base_uri": "https://localhost:8080/",
          "height": 34
        },
        "outputId": "72992ba2-30c1-46e6-a8ef-95991847c52e"
      },
      "source": [
        "#Example of creating and printing a list\n",
        "fruit_list = ['apple', 'banana', 'mango', 'kiwi', 'pineapple', 'strawberry', 'grapes', 'melon']\n",
        "print(fruit_list)"
      ],
      "execution_count": 2,
      "outputs": [
        {
          "output_type": "stream",
          "text": [
            "['apple', 'banana', 'mango', 'kiwi', 'pineapple', 'strawberry', 'grapes', 'melon']\n"
          ],
          "name": "stdout"
        }
      ]
    },
    {
      "cell_type": "code",
      "metadata": {
        "id": "RlNS584rYEL1",
        "colab_type": "code",
        "colab": {
          "base_uri": "https://localhost:8080/",
          "height": 34
        },
        "outputId": "cbb781da-3e9c-4bda-ca11-c4df75ee1571"
      },
      "source": [
        "#Type funtion returns class type of an object\n",
        "type(fruit_list)"
      ],
      "execution_count": 3,
      "outputs": [
        {
          "output_type": "execute_result",
          "data": {
            "text/plain": [
              "list"
            ]
          },
          "metadata": {
            "tags": []
          },
          "execution_count": 3
        }
      ]
    },
    {
      "cell_type": "code",
      "metadata": {
        "id": "0E3mK1C4YJaO",
        "colab_type": "code",
        "colab": {
          "base_uri": "https://localhost:8080/",
          "height": 68
        },
        "outputId": "eeda25bc-e3a0-423a-f3a9-ebbdd0346719"
      },
      "source": [
        "#Access List Items By Referring to Index Numbers\n",
        "\n",
        "#1.) Printing second item from a list\n",
        "print(fruit_list[1])\n",
        "\n",
        "#2.) Printing last item from a list\n",
        "print(fruit_list[-1])\n",
        "\n",
        "#3.) Range of Indexes - Specify start and end range from a list\n",
        "print(fruit_list[1:6])"
      ],
      "execution_count": 4,
      "outputs": [
        {
          "output_type": "stream",
          "text": [
            "banana\n",
            "melon\n",
            "['banana', 'mango', 'kiwi', 'pineapple', 'strawberry']\n"
          ],
          "name": "stdout"
        }
      ]
    },
    {
      "cell_type": "markdown",
      "metadata": {
        "id": "-6dP55HLYa3m",
        "colab_type": "text"
      },
      "source": [
        "##### Python List Functions & Methods"
      ]
    },
    {
      "cell_type": "code",
      "metadata": {
        "id": "qbGIIWnnYOrn",
        "colab_type": "code",
        "colab": {
          "base_uri": "https://localhost:8080/",
          "height": 34
        },
        "outputId": "1ba3d2f6-fc6c-4e88-9308-c4442f1859ca"
      },
      "source": [
        "# 1.) sort(): The sort() method is a built-in Python method that, by default, sorts the list in ascending order.\n",
        "            # However, you can modify the order from ascending to descending by specifying the sorting criteria.\n",
        "\n",
        "fruits_price = [50, 30, 40, 120, 100, 80, 150, 20]\n",
        "fruits_price.sort()\n",
        "print(fruits_price)"
      ],
      "execution_count": 6,
      "outputs": [
        {
          "output_type": "stream",
          "text": [
            "[20, 30, 40, 50, 80, 100, 120, 150]\n"
          ],
          "name": "stdout"
        }
      ]
    },
    {
      "cell_type": "code",
      "metadata": {
        "id": "ObxLkf2RYh19",
        "colab_type": "code",
        "colab": {
          "base_uri": "https://localhost:8080/",
          "height": 51
        },
        "outputId": "aec506f6-7f85-49dc-b68f-a09a98708f29"
      },
      "source": [
        "# 2.) append(): Adds a single element to a list.\n",
        "              # The append() method will add certain content you enter to the end of the elements you select.\n",
        "    \n",
        "months = ['January', 'February', 'March', 'April', 'May']\n",
        "print(months)\n",
        "months.append('June')\n",
        "print(months)"
      ],
      "execution_count": 9,
      "outputs": [
        {
          "output_type": "stream",
          "text": [
            "['January', 'February', 'March', 'April', 'May']\n",
            "['January', 'February', 'March', 'April', 'May', 'June']\n"
          ],
          "name": "stdout"
        }
      ]
    },
    {
      "cell_type": "code",
      "metadata": {
        "id": "dFL56Dt1Yrlf",
        "colab_type": "code",
        "colab": {
          "base_uri": "https://localhost:8080/",
          "height": 51
        },
        "outputId": "d9186f5b-d3ae-44f0-8a9e-7abc5c010873"
      },
      "source": [
        "# 3.) extend(): Adds multiple elements to a list.\n",
        "              # The extend() method increases the length of the list by the number of elements that are provided to the method,\n",
        "              # so if you want to add multiple elements to the list, you can use this method.\n",
        "        \n",
        "num_list = [100, 200, 300, 400, 500, 600]\n",
        "print(num_list)\n",
        "num_list.extend([700, 800, 900, 1000])\n",
        "print(num_list)"
      ],
      "execution_count": 10,
      "outputs": [
        {
          "output_type": "stream",
          "text": [
            "[100, 200, 300, 400, 500, 600]\n",
            "[100, 200, 300, 400, 500, 600, 700, 800, 900, 1000]\n"
          ],
          "name": "stdout"
        }
      ]
    },
    {
      "cell_type": "code",
      "metadata": {
        "id": "eEoNw3kEY6w4",
        "colab_type": "code",
        "colab": {
          "base_uri": "https://localhost:8080/",
          "height": 51
        },
        "outputId": "8617d689-411a-4f2c-bcd0-c9ea7467bfa1"
      },
      "source": [
        "# 4.) index(): Returns the first appearance of the specified value.\n",
        "\n",
        "months = ['January', 'February', 'March', 'April', 'May']\n",
        "prices = [1000, 500, 200, 600, 400]\n",
        "month_index = months.index('February')\n",
        "print(month_index)\n",
        "    \n",
        "# This method helps identify that February is located at index 1.\n",
        "# Now we can access the corresponding price of February using this index.\n",
        "    \n",
        "print(prices[1])"
      ],
      "execution_count": 11,
      "outputs": [
        {
          "output_type": "stream",
          "text": [
            "1\n",
            "500\n"
          ],
          "name": "stdout"
        }
      ]
    },
    {
      "cell_type": "code",
      "metadata": {
        "id": "tWqGYKxxZULC",
        "colab_type": "code",
        "colab": {
          "base_uri": "https://localhost:8080/",
          "height": 51
        },
        "outputId": "0a9b2838-55a4-46d6-974f-80132417bfc0"
      },
      "source": [
        "# 5.) len(list): It gives the total length of the list.\n",
        "               # The len() function shows the number of elements in a list.\n",
        "        \n",
        "veggies_list_1 = ['Brinjal', 'Potato', 'Capsicum', 'Okra']\n",
        "veggies_list_2 = ['Carrot', 'Sweet Potato', 'Radish']\n",
        "        \n",
        "print('Length of Veggies List 1 is: ', len(veggies_list_1))\n",
        "print('Length of Veggies List 2 is: ', len(veggies_list_2))"
      ],
      "execution_count": 12,
      "outputs": [
        {
          "output_type": "stream",
          "text": [
            "Length of Veggies List 1 is:  4\n",
            "Length of Veggies List 2 is:  3\n"
          ],
          "name": "stdout"
        }
      ]
    },
    {
      "cell_type": "markdown",
      "metadata": {
        "id": "nWLBFWTTZjJd",
        "colab_type": "text"
      },
      "source": [
        "#### QUESTION - 3: DICTIONARY AND ITS DEFAULT FUNCTIONS."
      ]
    },
    {
      "cell_type": "markdown",
      "metadata": {
        "id": "Blq5yoMlZosZ",
        "colab_type": "text"
      },
      "source": [
        "#### DICTIONARIES : A dictionary is a collection which is unordered, changeable and indexed. In Python, dictionaries are written with curly brackets, and they have keys and values."
      ]
    },
    {
      "cell_type": "code",
      "metadata": {
        "id": "azNAZCooZazN",
        "colab_type": "code",
        "colab": {
          "base_uri": "https://localhost:8080/",
          "height": 34
        },
        "outputId": "6d4a7624-4035-4d65-ffb3-0528775415d0"
      },
      "source": [
        "#Example of creating and printing a Dictionary\n",
        "my_dict = {'Name': 'Mahima', 'Qualification': 'B.Tech', 'YOP': 2019}\n",
        "print(my_dict)"
      ],
      "execution_count": 17,
      "outputs": [
        {
          "output_type": "stream",
          "text": [
            "{'Name': 'Mahima', 'Qualification': 'B.Tech', 'YOP': 2019}\n"
          ],
          "name": "stdout"
        }
      ]
    },
    {
      "cell_type": "code",
      "metadata": {
        "id": "uxdkLWFcbiQw",
        "colab_type": "code",
        "colab": {
          "base_uri": "https://localhost:8080/",
          "height": 34
        },
        "outputId": "deb3016a-728d-4c61-f192-cb288fe7549f"
      },
      "source": [
        "#Type function returns class type of an object\n",
        "type(my_dict)"
      ],
      "execution_count": 18,
      "outputs": [
        {
          "output_type": "execute_result",
          "data": {
            "text/plain": [
              "dict"
            ]
          },
          "metadata": {
            "tags": []
          },
          "execution_count": 18
        }
      ]
    },
    {
      "cell_type": "code",
      "metadata": {
        "id": "S23w5JJgbuMp",
        "colab_type": "code",
        "colab": {
          "base_uri": "https://localhost:8080/",
          "height": 51
        },
        "outputId": "e7001ad4-0f57-4c10-90b2-abfcee3e8552"
      },
      "source": [
        "#Accessing Values in Dictionary\n",
        "print(\"my_dict['Name']: \", my_dict['Name'])\n",
        "print(\"my_dict['Qualification']: \", my_dict['Qualification'])"
      ],
      "execution_count": 21,
      "outputs": [
        {
          "output_type": "stream",
          "text": [
            "my_dict['Name']:  Mahima\n",
            "my_dict['Qualification']:  B.Tech\n"
          ],
          "name": "stdout"
        }
      ]
    },
    {
      "cell_type": "code",
      "metadata": {
        "id": "9dSdCHbrcVXV",
        "colab_type": "code",
        "colab": {
          "base_uri": "https://localhost:8080/",
          "height": 68
        },
        "outputId": "38406f75-f98d-42a0-e160-052eeae4d1af"
      },
      "source": [
        "#Updating Dictionary\n",
        "my_dict['YOP'] = '2020'  #Update existing entry\n",
        "my_dict['College'] = 'TIT&S College'  #Add a new entry\n",
        "print(\"my_dict['YOP']: \", my_dict['YOP'])\n",
        "print(\"my_dict['College']: \", my_dict['College'])\n",
        "print(my_dict)"
      ],
      "execution_count": 29,
      "outputs": [
        {
          "output_type": "stream",
          "text": [
            "my_dict['YOP']:  2020\n",
            "my_dict['College']:  TIT&S College\n",
            "{'Name': 'Mahima', 'Qualification': 'B.Tech', 'College': 'TIT&S College', 'YOP': '2020'}\n"
          ],
          "name": "stdout"
        }
      ]
    },
    {
      "cell_type": "code",
      "metadata": {
        "id": "HGD8S6LzeXAu",
        "colab_type": "code",
        "colab": {
          "base_uri": "https://localhost:8080/",
          "height": 51
        },
        "outputId": "12ac4564-64af-464b-931d-df7836137f79"
      },
      "source": [
        "#Delete Dictionary Elements\n",
        "print(my_dict)\n",
        "del my_dict['YOP']  #remove entry with key 'YOP'\n",
        "print(my_dict)"
      ],
      "execution_count": 30,
      "outputs": [
        {
          "output_type": "stream",
          "text": [
            "{'Name': 'Mahima', 'Qualification': 'B.Tech', 'College': 'TIT&S College', 'YOP': '2020'}\n",
            "{'Name': 'Mahima', 'Qualification': 'B.Tech', 'College': 'TIT&S College'}\n"
          ],
          "name": "stdout"
        }
      ]
    },
    {
      "cell_type": "markdown",
      "metadata": {
        "id": "tupzeRwWfj-y",
        "colab_type": "text"
      },
      "source": [
        "##### Python Built-in Dictionary Functions & Methods"
      ]
    },
    {
      "cell_type": "code",
      "metadata": {
        "id": "IDTx6rGmfDnP",
        "colab_type": "code",
        "colab": {
          "base_uri": "https://localhost:8080/",
          "height": 51
        },
        "outputId": "888e37ef-bd6c-4299-b077-a448731f2343"
      },
      "source": [
        "# 1.) len(): Python dictionary method len() gives the total length of the dictionary. This would be equal to the number of items in the dictionary.\n",
        "my_dict = {'Name': 'Mahima', 'Qualification': 'B.Tech', 'YOP': 2019}\n",
        "print(my_dict)\n",
        "print(\"Length of my_dict is: \", len(my_dict))"
      ],
      "execution_count": 33,
      "outputs": [
        {
          "output_type": "stream",
          "text": [
            "{'Name': 'Mahima', 'Qualification': 'B.Tech', 'YOP': 2019}\n",
            "Length of my_dict is:  3\n"
          ],
          "name": "stdout"
        }
      ]
    },
    {
      "cell_type": "code",
      "metadata": {
        "id": "6dI3JZe_gVWq",
        "colab_type": "code",
        "colab": {
          "base_uri": "https://localhost:8080/",
          "height": 51
        },
        "outputId": "6703eff3-2387-4f24-a006-9e83d5e93f60"
      },
      "source": [
        "# 2.) items(): Python dictionary method items() returns a list of dict's (key, value) tuple pairs.\n",
        "my_dict = {'Name': 'Mahima', 'Qualification': 'B.Tech', 'YOP': 2019}\n",
        "print(my_dict)\n",
        "print(\"Value: \", my_dict.items())"
      ],
      "execution_count": 34,
      "outputs": [
        {
          "output_type": "stream",
          "text": [
            "{'Name': 'Mahima', 'Qualification': 'B.Tech', 'YOP': 2019}\n",
            "Value:  dict_items([('Name', 'Mahima'), ('Qualification', 'B.Tech'), ('YOP', 2019)])\n"
          ],
          "name": "stdout"
        }
      ]
    },
    {
      "cell_type": "code",
      "metadata": {
        "id": "0C8F8GdBhR6c",
        "colab_type": "code",
        "colab": {
          "base_uri": "https://localhost:8080/",
          "height": 51
        },
        "outputId": "7d65eb99-91a9-4b78-e0f0-b8f67e96680c"
      },
      "source": [
        "# 3.) keys(): Python dictionary method keys() returns a list of all the available keys in the dictionary.\n",
        "my_dict = {'Name': 'Mahima', 'Qualification': 'B.Tech', 'YOP': 2019}\n",
        "print(my_dict)\n",
        "print(\"Value: \", my_dict.keys())"
      ],
      "execution_count": 37,
      "outputs": [
        {
          "output_type": "stream",
          "text": [
            "{'Name': 'Mahima', 'Qualification': 'B.Tech', 'YOP': 2019}\n",
            "Value:  dict_keys(['Name', 'Qualification', 'YOP'])\n"
          ],
          "name": "stdout"
        }
      ]
    },
    {
      "cell_type": "code",
      "metadata": {
        "id": "6poKwNbvhyOb",
        "colab_type": "code",
        "colab": {
          "base_uri": "https://localhost:8080/",
          "height": 51
        },
        "outputId": "27b67efd-5797-4817-b26a-0eb918f72595"
      },
      "source": [
        "# 4.) values(): Python dictionary method values() returns a list of all the values available in a given dictionary.\n",
        "my_dict = {'Name': 'Mahima', 'Qualification': 'B.Tech', 'YOP': 2019}\n",
        "print(my_dict)\n",
        "print(\"Value: \", my_dict.values())"
      ],
      "execution_count": 38,
      "outputs": [
        {
          "output_type": "stream",
          "text": [
            "{'Name': 'Mahima', 'Qualification': 'B.Tech', 'YOP': 2019}\n",
            "Value:  dict_values(['Mahima', 'B.Tech', 2019])\n"
          ],
          "name": "stdout"
        }
      ]
    },
    {
      "cell_type": "code",
      "metadata": {
        "id": "SmRvJrc1iFFt",
        "colab_type": "code",
        "colab": {
          "base_uri": "https://localhost:8080/",
          "height": 51
        },
        "outputId": "58cbfd6e-9024-40ca-8acd-91978c4c7c25"
      },
      "source": [
        "# 5.) copy(): Python dictionary method copy() returns a shallow copy of the dictionary.\n",
        "my_dict = {'Name': 'Mahima', 'Qualification': 'B.Tech', 'YOP': 2019}\n",
        "print(my_dict)\n",
        "my_dict1 = my_dict.copy()\n",
        "print(\"New Dictionary: \", my_dict1)"
      ],
      "execution_count": 39,
      "outputs": [
        {
          "output_type": "stream",
          "text": [
            "{'Name': 'Mahima', 'Qualification': 'B.Tech', 'YOP': 2019}\n",
            "New Dictionary:  {'Name': 'Mahima', 'Qualification': 'B.Tech', 'YOP': 2019}\n"
          ],
          "name": "stdout"
        }
      ]
    },
    {
      "cell_type": "markdown",
      "metadata": {
        "id": "ZCDhb2nsi5yO",
        "colab_type": "text"
      },
      "source": [
        "#### QUESTION - 4: SETS AND ITS DEFAULT FUNCTIONS."
      ]
    },
    {
      "cell_type": "markdown",
      "metadata": {
        "id": "CCtIH_P4jBCv",
        "colab_type": "text"
      },
      "source": [
        "#### SETS : A set is a collection which is unordered and unindexed. In Python, sets are written with curly brackets.\n",
        "\n"
      ]
    },
    {
      "cell_type": "code",
      "metadata": {
        "id": "cqcDVtbvimca",
        "colab_type": "code",
        "colab": {
          "base_uri": "https://localhost:8080/",
          "height": 34
        },
        "outputId": "8e79bb9a-eaea-4d1c-c896-a3f30c8bfa0d"
      },
      "source": [
        "#Example of creating and printing a Set\n",
        "fruit_set = {'Apple', 'Banana', 'Tomato', 'Grapes', 'Kiwi', 'Watermelon', 'Strawberry', 'Cherry'}\n",
        "print(fruit_set)\n",
        "\n",
        "#Note: Sets are unordered, so you cannot be sure in which order the items will appear."
      ],
      "execution_count": 41,
      "outputs": [
        {
          "output_type": "stream",
          "text": [
            "{'Cherry', 'Strawberry', 'Grapes', 'Banana', 'Kiwi', 'Apple', 'Watermelon', 'Tomato'}\n"
          ],
          "name": "stdout"
        }
      ]
    },
    {
      "cell_type": "code",
      "metadata": {
        "id": "9fMEAGtUkNLP",
        "colab_type": "code",
        "colab": {
          "base_uri": "https://localhost:8080/",
          "height": 153
        },
        "outputId": "6b2149e3-dff8-4304-d69a-12eb08932752"
      },
      "source": [
        "#Access Items\n",
        "#You cannot access items in a set by referring to an index, since sets are unordered the items has no index.\n",
        "#But you can loop through the set items using a for loop, or ask if a specified value is present in a set, by using the in keyword.\n",
        "fruit_set = {'Apple', 'Banana', 'Tomato', 'Grapes', 'Kiwi', 'Watermelon', 'Strawberry', 'Cherry'}\n",
        "for x in fruit_set:\n",
        "  print(x)"
      ],
      "execution_count": 42,
      "outputs": [
        {
          "output_type": "stream",
          "text": [
            "Cherry\n",
            "Strawberry\n",
            "Grapes\n",
            "Banana\n",
            "Kiwi\n",
            "Apple\n",
            "Watermelon\n",
            "Tomato\n"
          ],
          "name": "stdout"
        }
      ]
    },
    {
      "cell_type": "code",
      "metadata": {
        "id": "UAJ9mUHelY3p",
        "colab_type": "code",
        "colab": {
          "base_uri": "https://localhost:8080/",
          "height": 51
        },
        "outputId": "6f854526-0119-4fbc-f737-6afda4a3657f"
      },
      "source": [
        "#Check if \"Banana\" and \"Potato\" are present in the set\n",
        "print(\"Banana\" in fruit_set)\n",
        "print(\"Potato\" in fruit_set)"
      ],
      "execution_count": 45,
      "outputs": [
        {
          "output_type": "stream",
          "text": [
            "True\n",
            "False\n"
          ],
          "name": "stdout"
        }
      ]
    },
    {
      "cell_type": "code",
      "metadata": {
        "id": "7VBvsza0lnrv",
        "colab_type": "code",
        "colab": {
          "base_uri": "https://localhost:8080/",
          "height": 51
        },
        "outputId": "a311d537-94fd-431f-f89c-925d6a58f86e"
      },
      "source": [
        "#Change Items\n",
        "#Once a set is created, you cannot change its items, but you can add new items.\n",
        "\n",
        "#Add Items\n",
        "#To add one item to a set use the add() method.\n",
        "fruit_set = {'Apple', 'Banana', 'Tomato', 'Grapes'}\n",
        "print(fruit_set)\n",
        "fruit_set.add(\"Orange\")\n",
        "print(fruit_set)"
      ],
      "execution_count": 47,
      "outputs": [
        {
          "output_type": "stream",
          "text": [
            "{'Banana', 'Grapes', 'Tomato', 'Apple'}\n",
            "{'Grapes', 'Banana', 'Apple', 'Orange', 'Tomato'}\n"
          ],
          "name": "stdout"
        }
      ]
    },
    {
      "cell_type": "code",
      "metadata": {
        "id": "0IFkoO8rmjg9",
        "colab_type": "code",
        "colab": {
          "base_uri": "https://localhost:8080/",
          "height": 51
        },
        "outputId": "8fa6fec7-1211-46e1-8b81-aee1ef6aff5d"
      },
      "source": [
        "#Update Items\n",
        "#To add more than one item to a set use the update() method.\n",
        "fruit_set = {'Apple', 'Banana', 'Tomato', 'Grapes'}\n",
        "print(fruit_set)\n",
        "fruit_set.update(['Orange', 'Mango', 'Watermelon'])\n",
        "print(fruit_set)"
      ],
      "execution_count": 49,
      "outputs": [
        {
          "output_type": "stream",
          "text": [
            "{'Banana', 'Grapes', 'Tomato', 'Apple'}\n",
            "{'Mango', 'Grapes', 'Banana', 'Apple', 'Orange', 'Watermelon', 'Tomato'}\n"
          ],
          "name": "stdout"
        }
      ]
    },
    {
      "cell_type": "markdown",
      "metadata": {
        "id": "r5O6NCUBnYU0",
        "colab_type": "text"
      },
      "source": [
        "##### Python Built-in Sets Functions & Methods"
      ]
    },
    {
      "cell_type": "code",
      "metadata": {
        "id": "eVah_seNnIap",
        "colab_type": "code",
        "colab": {
          "base_uri": "https://localhost:8080/",
          "height": 34
        },
        "outputId": "cd7bbcf6-8250-45ad-db75-716d662d25e3"
      },
      "source": [
        "# 1.) union(): The union() method returns a set that contains all items from the original set, and all items from the specified sets.\n",
        "             # You can specify as many sets you want, separated by commas.\n",
        "             # If an item is present in more than one set, the result will contain only one appearance of this item.\n",
        "\n",
        "fruit_set = {'Apple', 'Mango', 'Banana', 'Kiwi'}\n",
        "tech_set = {'Microsoft', 'Google', 'Amazon', 'Apple'}\n",
        "union_set = fruit_set.union(tech_set)\n",
        "print(union_set)"
      ],
      "execution_count": 50,
      "outputs": [
        {
          "output_type": "stream",
          "text": [
            "{'Mango', 'Amazon', 'Banana', 'Kiwi', 'Apple', 'Microsoft', 'Google'}\n"
          ],
          "name": "stdout"
        }
      ]
    },
    {
      "cell_type": "code",
      "metadata": {
        "id": "-ccvBYMupTdh",
        "colab_type": "code",
        "colab": {
          "base_uri": "https://localhost:8080/",
          "height": 34
        },
        "outputId": "73cca10c-fcc8-4707-c317-4d4db469a7fc"
      },
      "source": [
        "# 2.) intersection(): The intersection() method returns a set that contains the similarity between two or more sets.\n",
        "                    # The returned set contains only items that exist in both sets, or in all sets if the comparison is done with more than two sets.\n",
        "\n",
        "fruit_set = {'Apple', 'Mango', 'Banana', 'Kiwi'}\n",
        "tech_set = {'Microsoft', 'Google', 'Amazon', 'Apple'}\n",
        "intersection_set = fruit_set.intersection(tech_set)\n",
        "print(intersection_set)"
      ],
      "execution_count": 55,
      "outputs": [
        {
          "output_type": "stream",
          "text": [
            "{'Apple'}\n"
          ],
          "name": "stdout"
        }
      ]
    },
    {
      "cell_type": "code",
      "metadata": {
        "id": "T9k7w6Kmpt0T",
        "colab_type": "code",
        "colab": {
          "base_uri": "https://localhost:8080/",
          "height": 68
        },
        "outputId": "c10e9524-c5e6-4540-b539-731de1a93306"
      },
      "source": [
        "# 3.) add(): The add() method adds an element to the set.\n",
        "           # If the element already exists, the add() method does not add the element.\n",
        "\n",
        "fruit_set = {'Apple', 'Mango', 'Banana', 'Kiwi'}\n",
        "print(fruit_set)\n",
        "fruit_set.add('Apple')  # Doesn't add existing items into a Set\n",
        "print(fruit_set)\n",
        "fruit_set.add('Pineapple')  # Adds item when not existing in a Set\n",
        "print(fruit_set)"
      ],
      "execution_count": 52,
      "outputs": [
        {
          "output_type": "stream",
          "text": [
            "{'Mango', 'Banana', 'Kiwi', 'Apple'}\n",
            "{'Mango', 'Banana', 'Kiwi', 'Apple'}\n",
            "{'Mango', 'Banana', 'Kiwi', 'Apple', 'Pineapple'}\n"
          ],
          "name": "stdout"
        }
      ]
    },
    {
      "cell_type": "code",
      "metadata": {
        "id": "diDqqo4kqj0f",
        "colab_type": "code",
        "colab": {
          "base_uri": "https://localhost:8080/",
          "height": 68
        },
        "outputId": "d228de71-1d46-4b00-ca15-ad4b9852af76"
      },
      "source": [
        "# 4.) pop(): The pop() method removes a random item from the set.\n",
        "\n",
        "fruit_set = {'Apple', 'Mango', 'Banana', 'Kiwi'}\n",
        "print(fruit_set)\n",
        "pop_set = fruit_set.pop()\n",
        "print(pop_set)\n",
        "print(fruit_set)"
      ],
      "execution_count": 54,
      "outputs": [
        {
          "output_type": "stream",
          "text": [
            "{'Mango', 'Banana', 'Kiwi', 'Apple'}\n",
            "Mango\n",
            "{'Banana', 'Kiwi', 'Apple'}\n"
          ],
          "name": "stdout"
        }
      ]
    },
    {
      "cell_type": "code",
      "metadata": {
        "id": "Iqzu24n7rAPT",
        "colab_type": "code",
        "colab": {
          "base_uri": "https://localhost:8080/",
          "height": 34
        },
        "outputId": "114056f1-3223-4b5e-e020-b15eb67384c6"
      },
      "source": [
        "# 5.) difference(): The difference() method returns a set that contains the difference between two sets.\n",
        "                  # The returned set contains items that exist only in the first set, and not in both sets.\n",
        "\n",
        "fruit_set = {'Apple', 'Mango', 'Banana', 'Kiwi'}\n",
        "tech_set = {'Microsoft', 'Google', 'Amazon', 'Apple'}\n",
        "difference_set = fruit_set.difference(tech_set)\n",
        "print(difference_set)"
      ],
      "execution_count": 56,
      "outputs": [
        {
          "output_type": "stream",
          "text": [
            "{'Mango', 'Kiwi', 'Banana'}\n"
          ],
          "name": "stdout"
        }
      ]
    },
    {
      "cell_type": "markdown",
      "metadata": {
        "id": "8KDSqJtorxp3",
        "colab_type": "text"
      },
      "source": [
        "#### QUESTION - 5: STRINGS AND ITS DEFAULT METHODS."
      ]
    },
    {
      "cell_type": "markdown",
      "metadata": {
        "id": "AElZIWJVr_cN",
        "colab_type": "text"
      },
      "source": [
        "#### STRINGS : String literals in python are surrounded by either single quotation marks, or double quotation marks. 'hello' is the same as \"hello\"."
      ]
    },
    {
      "cell_type": "code",
      "metadata": {
        "id": "lQfqxFsHruu9",
        "colab_type": "code",
        "colab": {
          "base_uri": "https://localhost:8080/",
          "height": 51
        },
        "outputId": "9a289707-879b-4d86-a265-9abfcd211ecd"
      },
      "source": [
        "#String Literals\n",
        "print(\"Hola Peeps!!!\")\n",
        "print('Hola Peeps!!!')"
      ],
      "execution_count": 57,
      "outputs": [
        {
          "output_type": "stream",
          "text": [
            "Hola Peeps!!!\n",
            "Hola Peeps!!!\n"
          ],
          "name": "stdout"
        }
      ]
    },
    {
      "cell_type": "code",
      "metadata": {
        "id": "KdG0N3dusmao",
        "colab_type": "code",
        "colab": {
          "base_uri": "https://localhost:8080/",
          "height": 34
        },
        "outputId": "b22502c7-ad86-4d33-8279-e6c08c4b6e79"
      },
      "source": [
        "#Assign String to a Variable\n",
        "a = \"Hola Peeps!!!\"\n",
        "print(a)"
      ],
      "execution_count": 58,
      "outputs": [
        {
          "output_type": "stream",
          "text": [
            "Hola Peeps!!!\n"
          ],
          "name": "stdout"
        }
      ]
    },
    {
      "cell_type": "code",
      "metadata": {
        "id": "EY1Hypeasxtk",
        "colab_type": "code",
        "colab": {
          "base_uri": "https://localhost:8080/",
          "height": 85
        },
        "outputId": "54291bee-6db4-4514-c391-791ef744301b"
      },
      "source": [
        "#Multiline Strings\n",
        "#You can assign a multiline string to a variable by using three quotes\n",
        "\n",
        "a = '''I am a citizen of India.\n",
        "Our country has many religions and cultures.\n",
        "Almost all the festivals are celebrated in our country.\n",
        "I'm proud to be a citizen of India.'''\n",
        "print(a)"
      ],
      "execution_count": 59,
      "outputs": [
        {
          "output_type": "stream",
          "text": [
            "I am a citizen of India.\n",
            "Our country has many religions and cultures.\n",
            "Almost all the festivals are celebrated in our country.\n",
            "I'm proud to be a citizen of India.\n"
          ],
          "name": "stdout"
        }
      ]
    },
    {
      "cell_type": "markdown",
      "metadata": {
        "id": "HxLiz2RRwVnl",
        "colab_type": "text"
      },
      "source": [
        "##### Python Built-In String Methods"
      ]
    },
    {
      "cell_type": "code",
      "metadata": {
        "id": "MWaywr0BtpMP",
        "colab_type": "code",
        "colab": {
          "base_uri": "https://localhost:8080/",
          "height": 34
        },
        "outputId": "99afefa7-c545-4aa5-d6ac-2489cfa22105"
      },
      "source": [
        "# 1.) capitalize(): The capitalize() method returns a string where the first character is upper case.\n",
        "\n",
        "text = 'my name is Mahima.'\n",
        "x = text.capitalize()\n",
        "print(x)"
      ],
      "execution_count": 60,
      "outputs": [
        {
          "output_type": "stream",
          "text": [
            "My name is mahima.\n"
          ],
          "name": "stdout"
        }
      ]
    },
    {
      "cell_type": "code",
      "metadata": {
        "id": "epLtpVsWwzqf",
        "colab_type": "code",
        "colab": {
          "base_uri": "https://localhost:8080/",
          "height": 34
        },
        "outputId": "da4e7a51-f698-4dea-fdc7-5477769967c2"
      },
      "source": [
        "# 2.) title(): The title() method returns a string where the first character in every word is upper case. Like a header, or a title.\n",
        "             # If the word contains a number or a symbol, the first letter after that will be converted to upper case.\n",
        "\n",
        "text = \"Welcome to my world!\"\n",
        "header = text.title()\n",
        "print(header)"
      ],
      "execution_count": 61,
      "outputs": [
        {
          "output_type": "stream",
          "text": [
            "Welcome To My World!\n"
          ],
          "name": "stdout"
        }
      ]
    },
    {
      "cell_type": "code",
      "metadata": {
        "id": "lEKfs3xnxSIt",
        "colab_type": "code",
        "colab": {
          "base_uri": "https://localhost:8080/",
          "height": 34
        },
        "outputId": "f56553d1-313e-428d-c68d-dc6de6cc5e7e"
      },
      "source": [
        "# 3.) swapcase(): The swapcase() method returns a string where all the upper case letters are lower case and vice versa.\n",
        "\n",
        "text = \"welcome TO my WORLD!\"\n",
        "func_conv = text.swapcase()\n",
        "print(func_conv)"
      ],
      "execution_count": 62,
      "outputs": [
        {
          "output_type": "stream",
          "text": [
            "WELCOME to MY world!\n"
          ],
          "name": "stdout"
        }
      ]
    },
    {
      "cell_type": "code",
      "metadata": {
        "id": "4EHfObJQxrTr",
        "colab_type": "code",
        "colab": {
          "base_uri": "https://localhost:8080/",
          "height": 51
        },
        "outputId": "d67fe212-c973-4862-d5ba-9527d4a079e0"
      },
      "source": [
        "# 4.) find(): The find() method finds the first occurrence of the specified value.\n",
        "            # The find() method returns -1 if the value is not found.\n",
        "            # The find() method is almost the same as the index() method,\n",
        "            # the only difference is that the index() method raises an exception if the value is not found.\n",
        "\n",
        "text = \"Hello, welcome to my world!\"\n",
        "x = text.find('e')  #Returns the 1st occurrence of the search\n",
        "print(x)\n",
        "\n",
        "y = text.find('z')  #Returns -1 if occurrence of the search is not found in the string\n",
        "print(y)"
      ],
      "execution_count": 65,
      "outputs": [
        {
          "output_type": "stream",
          "text": [
            "1\n",
            "-1\n"
          ],
          "name": "stdout"
        }
      ]
    },
    {
      "cell_type": "code",
      "metadata": {
        "id": "jCFLwI6_yfFb",
        "colab_type": "code",
        "colab": {
          "base_uri": "https://localhost:8080/",
          "height": 51
        },
        "outputId": "4893d62e-8dd4-440a-81cb-741203c9c76b"
      },
      "source": [
        "# 5.) endswith(): The endswith() method returns True if the string ends with the specified value, otherwise False.\n",
        "'''string.endswith(value, start, end)\n",
        "value     Required. The value to check if the string ends with\n",
        "start     Optional. An Integer specifying at which position to start the search\n",
        "end       Optional. An Integer specifying at which position to end the search'''\n",
        "\n",
        "text = \"Hello, welcome to my world!\"\n",
        "x = text.endswith('world!')\n",
        "print(x)\n",
        "\n",
        "y = text.endswith('welcome')\n",
        "print(y)"
      ],
      "execution_count": 67,
      "outputs": [
        {
          "output_type": "stream",
          "text": [
            "True\n",
            "False\n"
          ],
          "name": "stdout"
        }
      ]
    }
  ]
}